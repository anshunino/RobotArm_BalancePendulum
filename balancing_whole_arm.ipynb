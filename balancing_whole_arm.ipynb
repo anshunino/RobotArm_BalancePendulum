{
 "cells": [
  {
   "cell_type": "code",
   "execution_count": 1,
   "id": "980e7690-f7fd-4773-99b3-14194f2703a9",
   "metadata": {},
   "outputs": [],
   "source": [
    "import gymnasium\n",
    "import pybullet\n",
    "from robot_descriptions.loaders.pybullet import load_robot_description"
   ]
  },
  {
   "cell_type": "code",
   "execution_count": null,
   "id": "e8c56e59-5a16-4d69-a00d-9374c1b3200d",
   "metadata": {},
   "outputs": [],
   "source": [
    "def apply_state_controller(K, x):\n",
    "    # feedback controller\n",
    "    u = -np.dot(K, x)   # u = -Kx\n",
    "    if u > 0:\n",
    "        return 1, u     # if force_dem > 0 -> move cart right\n",
    "    else:\n",
    "        return 0, u     # if force_dem <= 0 -> move cart left"
   ]
  },
  {
   "cell_type": "code",
   "execution_count": null,
   "id": "2d761516-374d-467a-bbbd-7c3a402685f0",
   "metadata": {},
   "outputs": [],
   "source": [
    "def pybullet_step(force):\n",
    "    ee_link = #FILL\n",
    "    pybullet.applyExternalForce(robot, ee_link, force)\n",
    "    pybullet.simulationStep()\n",
    "    \n",
    "    _, _, _, _, worldLinkFramePosition, worldLinkFrameOrientation, worldLinkLinearVelocity, worldLinkAngularVelocity = pybullet.getLinkState(robot, ee_link)\n",
    "    x = \n",
    "    theta = \n",
    "    x_dot = \n",
    "    theta_dot = \n",
    "    state = (x, x_dot, theta, theta_dot)\n",
    "    \n",
    "    terminated = bool(\n",
    "            x < -2.4\n",
    "            or x > 2.4\n",
    "            or theta < -0.20944\n",
    "            or theta > 0.20944\n",
    "        )\n",
    "\n",
    "        if not terminated:\n",
    "            reward = 1.0\n",
    "        elif self.steps_beyond_terminated is None:\n",
    "            # Pole just fell!\n",
    "            self.steps_beyond_terminated = 0\n",
    "            reward = 1.0\n",
    "        else:\n",
    "            self.steps_beyond_terminated += 1\n",
    "            reward = 0.0\n",
    "\n",
    "    return np.array(state, dtype=np.float32), reward, terminated, False, {}"
   ]
  },
  {
   "cell_type": "code",
   "execution_count": null,
   "id": "31b951d3-c359-49a4-b226-177491c0a31b",
   "metadata": {},
   "outputs": [],
   "source": [
    "for i in range(10000):\n",
    "    img = env.render()\n",
    "\n",
    "    # get force direction (action) and force value (force)\n",
    "    action, force = apply_state_controller(K, obs)\n",
    "\n",
    "    # apply action\n",
    "    \n",
    "    obs, reward, done, _, _ = step(action)\n",
    "    \n",
    "    obs_.append(obs.tolist())\n",
    "\n",
    "    if done:\n",
    "        print(f'Terminated after {i+1} iterations.')\n",
    "        break\n",
    "        \n",
    "env.close()"
   ]
  }
 ],
 "metadata": {
  "kernelspec": {
   "display_name": "Python 3 (ipykernel)",
   "language": "python",
   "name": "python3"
  },
  "language_info": {
   "codemirror_mode": {
    "name": "ipython",
    "version": 3
   },
   "file_extension": ".py",
   "mimetype": "text/x-python",
   "name": "python",
   "nbconvert_exporter": "python",
   "pygments_lexer": "ipython3",
   "version": "3.10.12"
  }
 },
 "nbformat": 4,
 "nbformat_minor": 5
}
