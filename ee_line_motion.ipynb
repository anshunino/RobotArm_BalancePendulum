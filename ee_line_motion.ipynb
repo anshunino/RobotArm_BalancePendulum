{
 "cells": [
  {
   "cell_type": "code",
   "execution_count": 1,
   "id": "722aa131-c71a-4bac-aa1c-5c114c40e801",
   "metadata": {},
   "outputs": [],
   "source": [
    "import gymnasium as gym\n",
    "import matplotlib.pyplot as plt\n",
    "import numpy as np\n",
    "import pybullet\n",
    "from robot_descriptions.loaders.pybullet import load_robot_description\n",
    "import time"
   ]
  },
  {
   "cell_type": "markdown",
   "id": "6031bd96-0134-445b-822a-86ece30b6bd9",
   "metadata": {},
   "source": [
    "### Initial configuration"
   ]
  },
  {
   "cell_type": "code",
   "execution_count": 2,
   "id": "8d9236b4-580a-4189-b2c4-0fbf57369c20",
   "metadata": {},
   "outputs": [],
   "source": [
    "INITIAL_CONF = [-0.07195958737978714, -0.031165154579558596, -1.804251465569389, -1.4883759445410973, 0.11663409459107088, -2.914561838332981]"
   ]
  },
  {
   "cell_type": "code",
   "execution_count": 3,
   "id": "6d60507f-ec2c-4b65-a8e0-2ae049cc33d7",
   "metadata": {},
   "outputs": [],
   "source": [
    "pybullet.connect(pybullet.GUI)\n",
    "name = 'ur5_description'\n",
    "robot = load_robot_description(name)"
   ]
  },
  {
   "cell_type": "code",
   "execution_count": 4,
   "id": "3152d633-69b2-4269-a5f2-1eec40edcbee",
   "metadata": {},
   "outputs": [],
   "source": [
    "pybullet.configureDebugVisualizer(pybullet.COV_ENABLE_SHADOWS, 0)\n",
    "pybullet.configureDebugVisualizer(pybullet.COV_ENABLE_GUI, 0)\n",
    "pybullet.setGravity(0,0,-9.8)"
   ]
  },
  {
   "cell_type": "code",
   "execution_count": 5,
   "id": "c11a83ea-ab60-4cd3-b3f8-f6b04f1a2163",
   "metadata": {},
   "outputs": [],
   "source": [
    "nq = pybullet.getNumJoints(robot)"
   ]
  },
  {
   "cell_type": "code",
   "execution_count": 8,
   "id": "78e62acb-3a64-4904-8216-8d40f8de28c2",
   "metadata": {},
   "outputs": [],
   "source": [
    "for joint in range(nq):\n",
    "    info = pybullet.getJointInfo(robot, joint)\n",
    "    # print(info)"
   ]
  },
  {
   "cell_type": "code",
   "execution_count": 9,
   "id": "ab8150e1",
   "metadata": {},
   "outputs": [],
   "source": [
    "free_joints = []\n",
    "for i in range(nq):\n",
    "   if pybullet.getJointInfo(robot, i)[2] != 4:\n",
    "       free_joints.append(i)"
   ]
  },
  {
   "cell_type": "code",
   "execution_count": 10,
   "id": "963e4b95-7406-4f63-95c7-dc8e14f8152a",
   "metadata": {},
   "outputs": [],
   "source": [
    "timeStep = 1./300\n",
    "pybullet.setTimeStep(timeStep)\n",
    "\n",
    "for j in free_joints:\n",
    "\tpybullet.setJointMotorControl2(robot, j, pybullet.VELOCITY_CONTROL, force=0)\n",
    "\n",
    "free_joints = free_joints[:6]"
   ]
  },
  {
   "cell_type": "markdown",
   "id": "ba8d251a-0bc7-4c64-9125-12f2b36820c4",
   "metadata": {},
   "source": [
    "### Make arm movement"
   ]
  },
  {
   "cell_type": "code",
   "execution_count": 11,
   "id": "4e66e23b-6939-4aa5-8609-82087cc03503",
   "metadata": {},
   "outputs": [],
   "source": [
    "def linear_interpolate_path(start_pos, delta_xyz, interval):\n",
    "    \"\"\"\n",
    "    Plots steps of length 'interval' from 'start_pos' to 'start_pos'+'delta_xyz'\n",
    "    \"\"\"\n",
    "    start_pos = np.array(start_pos).flatten()\n",
    "    delta_xyz = np.array(delta_xyz).flatten()\n",
    "    path_len = np.linalg.norm(delta_xyz)\n",
    "    num_pts = int(np.ceil(path_len / float(interval)))\n",
    "    if num_pts <= 1:\n",
    "        num_pts = 2\n",
    "    waypoints_sp = np.linspace(0, path_len, num_pts).reshape(-1, 1)\n",
    "    waypoints = start_pos + waypoints_sp / float(path_len) * delta_xyz\n",
    "    return waypoints"
   ]
  },
  {
   "cell_type": "code",
   "execution_count": 12,
   "id": "cb213531-31f7-433e-8ef4-cbade03c1e98",
   "metadata": {},
   "outputs": [],
   "source": [
    "def get_ee_pose():\n",
    "    info = pybullet.getLinkState(robot, ee_link_id)\n",
    "    pos = info[4]\n",
    "    quat = info[5]\n",
    "    return np.array(pos), np.array(quat)"
   ]
  },
  {
   "cell_type": "code",
   "execution_count": 13,
   "id": "f6d107d5-6414-463a-a984-3508d186e03d",
   "metadata": {},
   "outputs": [],
   "source": [
    "def to_quat(ori):\n",
    "    \"\"\"\n",
    "    Converts the input rotation format to unit quaternion\n",
    "    \"\"\"\n",
    "    ori = np.array(ori)\n",
    "    if ori.size == 3:\n",
    "        # [roll, pitch, yaw]\n",
    "        ori = euler2quat(ori)\n",
    "    elif ori.shape == (3, 3):\n",
    "        ori = rot2quat(ori)\n",
    "    elif ori.size != 4:\n",
    "        raise ValueError('Orientation should be rotation matrix, '\n",
    "                         'euler angles or quaternion')\n",
    "    return ori"
   ]
  },
  {
   "cell_type": "code",
   "execution_count": 14,
   "id": "09cafb8c-046c-4fb8-ab52-a42232925fb1",
   "metadata": {},
   "outputs": [],
   "source": [
    "def ang_in_mpi_ppi(angle):\n",
    "    \"\"\"\n",
    "    Restricts the angle within the range [-pi, pi)\n",
    "    \"\"\"\n",
    "    angle = (angle + np.pi) % (2 * np.pi) - np.pi\n",
    "    return angle"
   ]
  },
  {
   "cell_type": "code",
   "execution_count": 15,
   "id": "d0a8c3bd-723b-4d40-ad90-0aadd7ac2acf",
   "metadata": {},
   "outputs": [],
   "source": [
    "def compute_inverse_kinematics(pos, ori):\n",
    "    ori = to_quat(ori)\n",
    "    jnt_poss = pybullet.calculateInverseKinematics(robot, ee_link_id, pos, ori)\n",
    "    jnt_poss = list(map(ang_in_mpi_ppi, jnt_poss))\n",
    "    arm_jnt_poss = [jnt_poss[i] for i in range(len(free_joints))]\n",
    "    return arm_jnt_poss"
   ]
  },
  {
   "cell_type": "code",
   "execution_count": 16,
   "id": "beb27aef-302c-41d2-a94c-7fa007dd1806",
   "metadata": {},
   "outputs": [],
   "source": [
    "def set_jpos(position, log=False):\n",
    "    position = position.copy()\n",
    "    tgt_pos = position\n",
    "    pybullet.setJointMotorControlArray(robot, free_joints, pybullet.POSITION_CONTROL, targetPositions=tgt_pos)\n",
    "    pybullet.stepSimulation()\n",
    "    if log:\n",
    "        ee_positions_x.append(pybullet.getLinkState(robot, ee_link_id)[0][0])\n",
    "        ee_positions_y.append(pybullet.getLinkState(robot, ee_link_id)[0][1])\n",
    "        ee_positions_z.append(pybullet.getLinkState(robot, ee_link_id)[0][2])\n",
    "\n",
    "    time.sleep(timeStep)"
   ]
  },
  {
   "cell_type": "markdown",
   "id": "315ef87c",
   "metadata": {},
   "source": [
    "#### Send Robot to Desired Initial Position"
   ]
  },
  {
   "cell_type": "code",
   "execution_count": 17,
   "id": "af92efee-dbb4-4ed5-8691-f4cfbec9c885",
   "metadata": {},
   "outputs": [],
   "source": [
    "for i in range(100):\n",
    "    set_jpos(INITIAL_CONF)"
   ]
  },
  {
   "cell_type": "markdown",
   "id": "47bac6be",
   "metadata": {},
   "source": [
    "#### Take Small Steps to Reach Destination Position"
   ]
  },
  {
   "cell_type": "code",
   "execution_count": 18,
   "id": "c8aa8221-311a-4fe9-8ce6-063dfba4f233",
   "metadata": {},
   "outputs": [],
   "source": [
    "ee_link_id = 7 # Check\n",
    "delta_xyz = np.array((-1,0,0)) #oscillate between (1,0,0) and (-1,0,0)\n",
    "eef_step = 0.02\n",
    "pybullet.setRealTimeSimulation(0)\n",
    "\n",
    "ee_positions_x = []\n",
    "ee_positions_y = []\n",
    "ee_positions_z = []\n",
    "log_p = []\n",
    "log_theta = []\n",
    "\n",
    "pos, quat = get_ee_pose()\n",
    "cur_pos = np.array(pos)\n",
    "delta_xyz = np.array(delta_xyz)\n",
    "\n",
    "waypoints = linear_interpolate_path(cur_pos, delta_xyz, eef_step)\n",
    "way_jnt_positions = []\n",
    "for i in range(waypoints.shape[0]):\n",
    "    tgt_jnt_poss = compute_inverse_kinematics(waypoints[i, :].flatten().tolist(), quat)\n",
    "    way_jnt_positions.append(tgt_jnt_poss.copy())\n",
    "for jnt_poss in way_jnt_positions:\n",
    "    sub_steps = 4\n",
    "    for i in range(1, sub_steps):\n",
    "        set_jpos(jnt_poss, log=False)\n",
    "    set_jpos(jnt_poss, log=True)"
   ]
  },
  {
   "cell_type": "markdown",
   "id": "3aa5bb5d",
   "metadata": {},
   "source": [
    "### Plot Ideal vs Actual Positions of End Effector"
   ]
  },
  {
   "cell_type": "code",
   "execution_count": 19,
   "id": "b2327499-13d0-4a46-bc0e-263a4f3d1358",
   "metadata": {},
   "outputs": [
    {
     "data": {
      "text/plain": [
       "[]"
      ]
     },
     "execution_count": 19,
     "metadata": {},
     "output_type": "execute_result"
    },
    {
     "data": {
      "image/png": "[encoded data removed]",
      "text/plain": [
       "<Figure size 640x480 with 1 Axes>"
      ]
     },
     "metadata": {},
     "output_type": "display_data"
    }
   ],
   "source": [
    "plt.plot(ee_positions_x, label='ee_positions_x')\n",
    "plt.plot(ee_positions_y, label='ee_positions_y')\n",
    "plt.plot(ee_positions_z, label='ee_positions_z')\n",
    "\n",
    "plt.plot(waypoints[:, 0], label='ideal_x')\n",
    "plt.plot(waypoints[:, 1], label='ideal_y')\n",
    "plt.plot(waypoints[:, 2], label='ideal_z')\n",
    "\n",
    "plt.legend()\n",
    "plt.plot()"
   ]
  },
  {
   "cell_type": "code",
   "execution_count": 20,
   "id": "60f20a0e-fc3d-49bc-8a14-5e6b260ec257",
   "metadata": {},
   "outputs": [],
   "source": [
    "pybullet.disconnect()"
   ]
  },
  {
   "cell_type": "markdown",
   "id": "851adc44",
   "metadata": {},
   "source": [
    "### Structured Code"
   ]
  },
  {
   "cell_type": "code",
   "execution_count": 1,
   "id": "a3168151",
   "metadata": {},
   "outputs": [],
   "source": [
    "import gymnasium as gym\n",
    "import matplotlib.pyplot as plt\n",
    "import numpy as np\n",
    "import time\n",
    "from robot_descriptions.loaders.pybullet import load_robot_description\n",
    "import pybullet"
   ]
  },
  {
   "cell_type": "code",
   "execution_count": 2,
   "id": "e190cfa0",
   "metadata": {},
   "outputs": [],
   "source": [
    "from observation import Actor\n",
    "actor = Actor()"
   ]
  },
  {
   "cell_type": "code",
   "execution_count": 3,
   "id": "d6dfd820",
   "metadata": {},
   "outputs": [],
   "source": [
    "pybullet.connect(pybullet.GUI)\n",
    "name = 'ur5_description'\n",
    "robot = load_robot_description(name)\n",
    "\n",
    "timeStep = 1./300\n",
    "pybullet.setTimeStep(timeStep)"
   ]
  },
  {
   "cell_type": "code",
   "execution_count": 4,
   "id": "14427792",
   "metadata": {},
   "outputs": [],
   "source": [
    "pybullet.setGravity(0, 0, -9.8)"
   ]
  },
  {
   "cell_type": "code",
   "execution_count": 5,
   "id": "59995fb1",
   "metadata": {},
   "outputs": [],
   "source": [
    "for j in actor.free_joints:\n",
    "    pybullet.setJointMotorControl2(\n",
    "        robot, j, pybullet.VELOCITY_CONTROL, force=0)\n",
    "\n",
    "pos, quat = actor.get_ee_pose(robot)\n",
    "\n",
    "for i in range(100):\n",
    "    actor.set_jpos(actor.INITIAL_CONF, robot, timeStep)\n",
    "\n",
    "timeStep = 1./3000\n",
    "pybullet.setTimeStep(timeStep)\n",
    "episode, ee_positions_x, ee_positions_y, ee_positions_z = actor.rollout_from_env(\n",
    "    robot, actor.pid_policy, timeStep)"
   ]
  },
  {
   "cell_type": "code",
   "execution_count": 6,
   "id": "3907cf67",
   "metadata": {},
   "outputs": [],
   "source": [
    "pybullet.disconnect()"
   ]
  },
  {
   "cell_type": "code",
   "execution_count": 7,
   "id": "12990dfc",
   "metadata": {},
   "outputs": [
    {
     "data": {
      "text/plain": [
       "[<matplotlib.lines.Line2D at 0x19a2a73f190>]"
      ]
     },
     "execution_count": 7,
     "metadata": {},
     "output_type": "execute_result"
    },
    {
     "data": {
      "image/png": "[encoded data removed]",
      "text/plain": [
       "<Figure size 640x480 with 1 Axes>"
      ]
     },
     "metadata": {},
     "output_type": "display_data"
    }
   ],
   "source": [
    "plt.plot(np.array(episode['observation'])[:, 1])"
   ]
  },
  {
   "cell_type": "code",
   "execution_count": null,
   "id": "c721aa27",
   "metadata": {},
   "outputs": [],
   "source": []
  }
 ],
 "metadata": {
  "kernelspec": {
   "display_name": "Python 3 (ipykernel)",
   "language": "python",
   "name": "python3"
  },
  "language_info": {
   "codemirror_mode": {
    "name": "ipython",
    "version": 3
   },
   "file_extension": ".py",
   "mimetype": "text/x-python",
   "name": "python",
   "nbconvert_exporter": "python",
   "pygments_lexer": "ipython3",
   "version": "3.10.12"
  }
 },
 "nbformat": 4,
 "nbformat_minor": 5
}
